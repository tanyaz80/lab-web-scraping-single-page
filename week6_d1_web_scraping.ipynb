{
 "cells": [
  {
   "cell_type": "code",
   "execution_count": 1,
   "id": "bbe3704a",
   "metadata": {},
   "outputs": [],
   "source": [
    "import requests # to download html code\n",
    "from bs4 import BeautifulSoup # to navigate through the html code\n",
    "import pandas as pd\n",
    "import numpy as np\n",
    "import re"
   ]
  },
  {
   "cell_type": "code",
   "execution_count": 2,
   "id": "7acae1b4",
   "metadata": {},
   "outputs": [],
   "source": [
    "url = \"https://www.billboard.com/charts/hot-100/\""
   ]
  },
  {
   "cell_type": "code",
   "execution_count": 3,
   "id": "71a8c8bb",
   "metadata": {},
   "outputs": [
    {
     "data": {
      "text/plain": [
       "200"
      ]
     },
     "execution_count": 3,
     "metadata": {},
     "output_type": "execute_result"
    }
   ],
   "source": [
    "# 3. download html with a get request\n",
    "response = requests.get(url)\n",
    "response.status_code # 200 status code means OK!"
   ]
  },
  {
   "cell_type": "code",
   "execution_count": 4,
   "id": "1fad8d88",
   "metadata": {},
   "outputs": [],
   "source": [
    "# 4.1. parse html (create the 'soup')\n",
    "soup = BeautifulSoup(response.content, \"html.parser\") \n",
    "# 4.2. check that the html code looks like it should\n",
    "#soup"
   ]
  },
  {
   "cell_type": "code",
   "execution_count": 5,
   "id": "8a9bd90b",
   "metadata": {},
   "outputs": [
    {
     "name": "stdout",
     "output_type": "stream",
     "text": [
      "['Anti-Hero', 'Lift Me Up', 'Unholy', 'Bad Habit', 'As It Was', 'Lavender Haze', 'Midnight Rain', 'I Like You (A Happier Song)', 'Bejeweled', 'Super Freaky Girl', 'Shirt', 'Maroon', \"I Ain't Worried\", 'You Proof', \"I'm Good (Blue)\", 'Snow On The Beach', 'Karma', 'Vegas', 'Sunroof', \"You're On Your Own, Kid\", 'Under The Influence', 'Wasted On You', 'In My Head', 'Vigilante Shit', 'Jimmy Cooks', 'Thriller', 'Die For You', 'Wait For U', 'Something In The Orange', 'Titi Me Pregunto', 'Cuff It', 'Question...?', 'About Damn Time', 'Late Night Talking', 'Tomorrow 2', 'The Kind Of Love We Make', 'She Had Me At Heads Carolina', 'Mastermind', 'Unstoppable', 'Hold Me Closer', 'Me Porto Bonito', 'Labyrinth', 'Thank God', '5 Foot 9', 'Sweet Nothing', 'Golden Hour', 'Monster Mash', 'Just Wanna Rock', 'Ghostbusters', 'Fall In Love', 'The Astronaut', 'Half Of Me', 'Until I Found You', 'Rock And A Hard Place', 'California Breeze', 'Victoria’s Secret', 'Son Of A Sinner', 'What My World Spins Around', \"Would've, Could've, Should've\", \"Star Walkin' (League Of Legends Worlds Anthem)\", 'Heyy', 'Music For A Sushi Restaurant', 'Made You Look', 'Forever', 'Romantic Homicide', \"Don't Come Lookin'\", 'Wishful Drinking', 'Bigger Than The Whole Sky', 'Free Mind', 'No Se Va', 'The Great War', 'Billie Eilish.', 'Paris', 'Whiskey On You', 'All Mine', 'Wait In The Truck', 'Monotonia', 'Hotel Lobby (Unc And Phew)', 'High Infidelity', '2 Be Loved (Am I Ready)', 'Staying Alive', 'Real Spill', 'Last Last', 'Miss You', 'Never Hating', 'Glitch', 'Freestyle', 'Calm Down', 'Stand On It', 'La Bachata', 'Gotta Move On', \"Ain't Safe\", 'Pick Me Up', 'Betty (Get Money)', 'Gatubela', '300 Blackout', 'Dear Reader', 'Country On', 'Bzrp Music Sessions, Vol. 52', 'Evergreen']\n"
     ]
    }
   ],
   "source": [
    "titles = []\n",
    "for div in soup.find_all(\"div\",{\"class\":\"o-chart-results-list-row-container\"}):\n",
    "    titles.append(div.find_all(\"h3\")[0].get_text().replace(\"\\n\",\"\").lstrip().rstrip())\n",
    "    \n",
    "print(titles)    \n",
    "    "
   ]
  },
  {
   "cell_type": "code",
   "execution_count": 22,
   "id": "4b906cff",
   "metadata": {},
   "outputs": [
    {
     "name": "stdout",
     "output_type": "stream",
     "text": [
      "['Taylor Swift', 'Rihanna', 'Sam Smith & Kim Petras', 'Steve Lacy', '1', 'Taylor Swift', 'Taylor Swift', 'Post Malone Featuring Doja Cat', 'Taylor Swift', 'Nicki Minaj', 'SZA', 'Taylor Swift', 'OneRepublic', 'Morgan Wallen', 'David Guetta & Bebe Rexha', 'Taylor Swift Featuring Lana Del Rey', 'Taylor Swift', 'Doja Cat', 'Nicky Youre & dazy', 'Taylor Swift', 'Chris Brown', '9', 'Juice WRLD', 'Taylor Swift', 'Drake Featuring 21 Savage', '4', '27', '1', 'Zach Bryan', 'Bad Bunny', 'Beyonce', 'Taylor Swift', 'Lizzo', '3', 'GloRilla & Cardi B', 'Luke Combs', 'Cole Swindell', 'Taylor Swift', 'Sia', 'Elton John & Britney Spears', 'Bad Bunny & Chencho Corleone', 'Taylor Swift', 'Kane Brown With Katelyn Brown', 'Tyler Hubbard', 'Taylor Swift', 'JVKE', 'Bobby \"Boris\" Pickett And The Crypt-Kickers', 'Lil Uzi Vert', 'Ray Parker Jr.', 'Bailey Zimmerman', 'JIN', 'Thomas Rhett Featuring Riley Green', '38', 'Bailey Zimmerman', 'Lil Baby', 'Jax', 'Jelly Roll', 'Jordan Davis', 'Taylor Swift', 'Lil Nas X', 'Lil Baby', '8', 'Meghan Trainor', 'Lil Baby Featuring Fridayy', 'd4vd', 'Jackson Dean', '47', 'Taylor Swift', 'Tems', 'Grupo Frontera', 'Taylor Swift', 'Armani White', 'Taylor Swift', 'Nate Smith', 'Brent Faiyaz', 'HARDY Featuring Lainey Wilson', 'Shakira + Ozuna', '59', 'Taylor Swift', 'Lizzo', 'DJ Khaled Featuring Drake & Lil Baby', 'Lil Baby', 'Burna Boy', 'Oliver Tree & Robin Schulz', 'Lil Baby & Young Thug', 'Taylor Swift', '63', 'Rema & Selena Gomez', 'Lil Baby', 'Manuel Turizo', 'Diddy & Bryson Tiller', 'Trippie Redd & Don Toliver', 'Gabby Barrett', 'Yung Gravy', 'Karol G x Maldy', 'Kodak Black', 'Taylor Swift', 'Luke Bryan', 'Bizarrap & Quevedo', 'Omar Apollo']\n"
     ]
    }
   ],
   "source": [
    "artists = []\n",
    "for div in soup.find_all(\"div\",{\"class\":\"o-chart-results-list-row-container\"}):\n",
    "    artists.append(div.find_all(\"span\")[-15].get_text().replace(\"\\n\",\"\").lstrip().rstrip())\n",
    "print(artists)"
   ]
  },
  {
   "cell_type": "code",
   "execution_count": 23,
   "id": "2ebec4db",
   "metadata": {},
   "outputs": [
    {
     "data": {
      "text/html": [
       "<div>\n",
       "<style scoped>\n",
       "    .dataframe tbody tr th:only-of-type {\n",
       "        vertical-align: middle;\n",
       "    }\n",
       "\n",
       "    .dataframe tbody tr th {\n",
       "        vertical-align: top;\n",
       "    }\n",
       "\n",
       "    .dataframe thead th {\n",
       "        text-align: right;\n",
       "    }\n",
       "</style>\n",
       "<table border=\"1\" class=\"dataframe\">\n",
       "  <thead>\n",
       "    <tr style=\"text-align: right;\">\n",
       "      <th></th>\n",
       "      <th>title</th>\n",
       "      <th>artist</th>\n",
       "    </tr>\n",
       "  </thead>\n",
       "  <tbody>\n",
       "    <tr>\n",
       "      <th>0</th>\n",
       "      <td>Anti-Hero</td>\n",
       "      <td>Taylor Swift</td>\n",
       "    </tr>\n",
       "    <tr>\n",
       "      <th>1</th>\n",
       "      <td>Lift Me Up</td>\n",
       "      <td>Rihanna</td>\n",
       "    </tr>\n",
       "    <tr>\n",
       "      <th>2</th>\n",
       "      <td>Unholy</td>\n",
       "      <td>Sam Smith &amp; Kim Petras</td>\n",
       "    </tr>\n",
       "    <tr>\n",
       "      <th>3</th>\n",
       "      <td>Bad Habit</td>\n",
       "      <td>Steve Lacy</td>\n",
       "    </tr>\n",
       "    <tr>\n",
       "      <th>4</th>\n",
       "      <td>As It Was</td>\n",
       "      <td>1</td>\n",
       "    </tr>\n",
       "    <tr>\n",
       "      <th>...</th>\n",
       "      <td>...</td>\n",
       "      <td>...</td>\n",
       "    </tr>\n",
       "    <tr>\n",
       "      <th>95</th>\n",
       "      <td>300 Blackout</td>\n",
       "      <td>Kodak Black</td>\n",
       "    </tr>\n",
       "    <tr>\n",
       "      <th>96</th>\n",
       "      <td>Dear Reader</td>\n",
       "      <td>Taylor Swift</td>\n",
       "    </tr>\n",
       "    <tr>\n",
       "      <th>97</th>\n",
       "      <td>Country On</td>\n",
       "      <td>Luke Bryan</td>\n",
       "    </tr>\n",
       "    <tr>\n",
       "      <th>98</th>\n",
       "      <td>Bzrp Music Sessions, Vol. 52</td>\n",
       "      <td>Bizarrap &amp; Quevedo</td>\n",
       "    </tr>\n",
       "    <tr>\n",
       "      <th>99</th>\n",
       "      <td>Evergreen</td>\n",
       "      <td>Omar Apollo</td>\n",
       "    </tr>\n",
       "  </tbody>\n",
       "</table>\n",
       "<p>100 rows × 2 columns</p>\n",
       "</div>"
      ],
      "text/plain": [
       "                           title                  artist\n",
       "0                      Anti-Hero            Taylor Swift\n",
       "1                     Lift Me Up                 Rihanna\n",
       "2                         Unholy  Sam Smith & Kim Petras\n",
       "3                      Bad Habit              Steve Lacy\n",
       "4                      As It Was                       1\n",
       "..                           ...                     ...\n",
       "95                  300 Blackout             Kodak Black\n",
       "96                   Dear Reader            Taylor Swift\n",
       "97                    Country On              Luke Bryan\n",
       "98  Bzrp Music Sessions, Vol. 52      Bizarrap & Quevedo\n",
       "99                     Evergreen             Omar Apollo\n",
       "\n",
       "[100 rows x 2 columns]"
      ]
     },
     "execution_count": 23,
     "metadata": {},
     "output_type": "execute_result"
    }
   ],
   "source": [
    "songs = pd.DataFrame({\"title\":titles,\n",
    "                       \"artist\":artists})\n",
    "                      \n",
    "songs.head(110)\n"
   ]
  },
  {
   "cell_type": "code",
   "execution_count": 24,
   "id": "7f6579c1",
   "metadata": {},
   "outputs": [],
   "source": [
    "songs.to_csv(\"hotsongs.csv\")\n"
   ]
  }
 ],
 "metadata": {
  "kernelspec": {
   "display_name": "Python 3 (ipykernel)",
   "language": "python",
   "name": "python3"
  },
  "language_info": {
   "codemirror_mode": {
    "name": "ipython",
    "version": 3
   },
   "file_extension": ".py",
   "mimetype": "text/x-python",
   "name": "python",
   "nbconvert_exporter": "python",
   "pygments_lexer": "ipython3",
   "version": "3.9.12"
  }
 },
 "nbformat": 4,
 "nbformat_minor": 5
}
